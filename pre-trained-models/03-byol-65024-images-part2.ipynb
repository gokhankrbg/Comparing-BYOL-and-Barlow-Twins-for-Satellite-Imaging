{
 "cells": [
  {
   "cell_type": "code",
   "execution_count": 1,
   "id": "84ddb7f1",
   "metadata": {
    "_cell_guid": "b1076dfc-b9ad-4769-8c92-a6c4dae69d19",
    "_uuid": "8f2839f25d086af736a60e9eeb907d3b93b6e0e5",
    "execution": {
     "iopub.execute_input": "2025-06-28T18:28:00.427512Z",
     "iopub.status.busy": "2025-06-28T18:28:00.427254Z"
    },
    "papermill": {
     "duration": 43200.00439,
     "end_time": "2025-06-29T06:28:00.428535",
     "exception": false,
     "start_time": "2025-06-28T18:28:00.424145",
     "status": "completed"
    },
    "tags": []
   },
   "outputs": [
    {
     "name": "stdout",
     "output_type": "stream",
     "text": [
      "\u001b[?25l   \u001b[90m━━━━━━━━━━━━━━━━━━━━━━━━━━━━━━━━━━━━━━━━\u001b[0m \u001b[32m0.0/205.4 kB\u001b[0m \u001b[31m?\u001b[0m eta \u001b[36m-:--:--\u001b[0m"
     ]
    },
    {
     "name": "stdout",
     "output_type": "stream",
     "text": [
      "\r",
      "\u001b[2K   \u001b[90m━━━━━━━━━━━━━━━━━━━━━━━━━━━━━━━━━━━━━━━━\u001b[0m \u001b[32m205.4/205.4 kB\u001b[0m \u001b[31m8.3 MB/s\u001b[0m eta \u001b[36m0:00:00\u001b[0m\r\n",
      "\u001b[?25h\u001b[?25l   \u001b[90m━━━━━━━━━━━━━━━━━━━━━━━━━━━━━━━━━━━━━━━━\u001b[0m \u001b[32m0.0/8.8 MB\u001b[0m \u001b[31m?\u001b[0m eta \u001b[36m-:--:--\u001b[0m"
     ]
    },
    {
     "name": "stdout",
     "output_type": "stream",
     "text": [
      "\r",
      "\u001b[2K   \u001b[91m━━━━━━━━━━━━━━━━━━━━━━━━━\u001b[0m\u001b[91m╸\u001b[0m\u001b[90m━━━━━━━━━━━━━━\u001b[0m \u001b[32m5.7/8.8 MB\u001b[0m \u001b[31m169.4 MB/s\u001b[0m eta \u001b[36m0:00:01\u001b[0m"
     ]
    },
    {
     "name": "stdout",
     "output_type": "stream",
     "text": [
      "\r",
      "\u001b[2K   \u001b[91m━━━━━━━━━━━━━━━━━━━━━━━━━━━━━━━━━━━━━━━\u001b[0m\u001b[91m╸\u001b[0m \u001b[32m8.8/8.8 MB\u001b[0m \u001b[31m184.6 MB/s\u001b[0m eta \u001b[36m0:00:01\u001b[0m\r",
      "\u001b[2K   \u001b[90m━━━━━━━━━━━━━━━━━━━━━━━━━━━━━━━━━━━━━━━━\u001b[0m \u001b[32m8.8/8.8 MB\u001b[0m \u001b[31m101.6 MB/s\u001b[0m eta \u001b[36m0:00:00\u001b[0m\r\n",
      "\u001b[?25h"
     ]
    },
    {
     "name": "stdout",
     "output_type": "stream",
     "text": [
      "\u001b[?25l   \u001b[90m━━━━━━━━━━━━━━━━━━━━━━━━━━━━━━━━━━━━━━━━\u001b[0m \u001b[32m0.0/53.7 kB\u001b[0m \u001b[31m?\u001b[0m eta \u001b[36m-:--:--\u001b[0m\r",
      "\u001b[2K   \u001b[90m━━━━━━━━━━━━━━━━━━━━━━━━━━━━━━━━━━━━━━━━\u001b[0m \u001b[32m53.7/53.7 kB\u001b[0m \u001b[31m3.6 MB/s\u001b[0m eta \u001b[36m0:00:00\u001b[0m\r\n",
      "\u001b[?25h"
     ]
    },
    {
     "name": "stdout",
     "output_type": "stream",
     "text": [
      "Using device: cuda\n",
      "Pre-loading images into RAM...\n"
     ]
    },
    {
     "data": {
      "application/vnd.jupyter.widget-view+json": {
       "model_id": "fb4bdeee6d4043548014eaa62927a781",
       "version_major": 2,
       "version_minor": 0
      },
      "text/plain": [
       "Loading files:   0%|          | 0/241 [00:00<?, ?it/s]"
      ]
     },
     "metadata": {},
     "output_type": "display_data"
    },
    {
     "name": "stdout",
     "output_type": "stream",
     "text": [
      "\n",
      "Dataset Initialized: Using 50% of data -> 61,696 images pre-loaded.\n",
      "Using ResNet-18 as the encoder model.\n"
     ]
    },
    {
     "name": "stderr",
     "output_type": "stream",
     "text": [
      "/tmp/ipykernel_19/2223545503.py:132: FutureWarning: `torch.cuda.amp.GradScaler(args...)` is deprecated. Please use `torch.amp.GradScaler('cuda', args...)` instead.\n",
      "  scaler = torch.cuda.amp.GradScaler(enabled=(device.type == 'cuda'))\n"
     ]
    },
    {
     "name": "stdout",
     "output_type": "stream",
     "text": [
      "✅ Resuming from checkpoint: /kaggle/input/03-byol-training-50pct/byol_checkpoint_50pct.pth\n"
     ]
    },
    {
     "name": "stdout",
     "output_type": "stream",
     "text": [
      "   -> Resuming training from the start of epoch 17\n",
      "\n",
      "--- Starting/Resuming BYOL Training from Epoch 16 ---\n"
     ]
    },
    {
     "data": {
      "application/vnd.jupyter.widget-view+json": {
       "model_id": "47e4f9b7ebbc4352a45e4f982c6a1153",
       "version_major": 2,
       "version_minor": 0
      },
      "text/plain": [
       "Epoch 17/50:   0%|          | 0/482 [00:00<?, ?it/s]"
      ]
     },
     "metadata": {},
     "output_type": "display_data"
    },
    {
     "name": "stderr",
     "output_type": "stream",
     "text": [
      "/tmp/ipykernel_19/2223545503.py:144: FutureWarning: `torch.cuda.amp.autocast(args...)` is deprecated. Please use `torch.amp.autocast('cuda', args...)` instead.\n",
      "  with torch.cuda.amp.autocast(enabled=(device.type == 'cuda')):\n"
     ]
    },
    {
     "name": "stdout",
     "output_type": "stream",
     "text": [
      "Epoch 17 Summary: Average Loss = 0.1841\n"
     ]
    },
    {
     "name": "stdout",
     "output_type": "stream",
     "text": [
      "Loss decreased (inf --> 0.184122). Saving best model...\n"
     ]
    },
    {
     "data": {
      "application/vnd.jupyter.widget-view+json": {
       "model_id": "9375a5d998cd451b94a8900fc8d99a85",
       "version_major": 2,
       "version_minor": 0
      },
      "text/plain": [
       "Epoch 18/50:   0%|          | 0/482 [00:00<?, ?it/s]"
      ]
     },
     "metadata": {},
     "output_type": "display_data"
    },
    {
     "name": "stdout",
     "output_type": "stream",
     "text": [
      "Epoch 18 Summary: Average Loss = 0.1807\n"
     ]
    },
    {
     "name": "stdout",
     "output_type": "stream",
     "text": [
      "Loss decreased (0.184122 --> 0.180744). Saving best model...\n"
     ]
    },
    {
     "data": {
      "application/vnd.jupyter.widget-view+json": {
       "model_id": "f8eb45ce752c4aab8b3dfa1ed326114b",
       "version_major": 2,
       "version_minor": 0
      },
      "text/plain": [
       "Epoch 19/50:   0%|          | 0/482 [00:00<?, ?it/s]"
      ]
     },
     "metadata": {},
     "output_type": "display_data"
    },
    {
     "name": "stdout",
     "output_type": "stream",
     "text": [
      "Epoch 19 Summary: Average Loss = 0.1812\n"
     ]
    },
    {
     "name": "stdout",
     "output_type": "stream",
     "text": [
      "EarlyStopping counter: 1 out of 10\n"
     ]
    },
    {
     "data": {
      "application/vnd.jupyter.widget-view+json": {
       "model_id": "73e8abf6e5e64d429d7de2e207d55ec0",
       "version_major": 2,
       "version_minor": 0
      },
      "text/plain": [
       "Epoch 20/50:   0%|          | 0/482 [00:00<?, ?it/s]"
      ]
     },
     "metadata": {},
     "output_type": "display_data"
    },
    {
     "name": "stdout",
     "output_type": "stream",
     "text": [
      "Epoch 20 Summary: Average Loss = 0.1810\n"
     ]
    },
    {
     "name": "stdout",
     "output_type": "stream",
     "text": [
      "EarlyStopping counter: 2 out of 10\n"
     ]
    },
    {
     "data": {
      "application/vnd.jupyter.widget-view+json": {
       "model_id": "38ffb498c8a84805b404da84642213d3",
       "version_major": 2,
       "version_minor": 0
      },
      "text/plain": [
       "Epoch 21/50:   0%|          | 0/482 [00:00<?, ?it/s]"
      ]
     },
     "metadata": {},
     "output_type": "display_data"
    },
    {
     "name": "stdout",
     "output_type": "stream",
     "text": [
      "Epoch 21 Summary: Average Loss = 0.1814\n"
     ]
    },
    {
     "name": "stdout",
     "output_type": "stream",
     "text": [
      "EarlyStopping counter: 3 out of 10\n"
     ]
    },
    {
     "data": {
      "application/vnd.jupyter.widget-view+json": {
       "model_id": "c664db4a883d4a52b821f13c9abc430d",
       "version_major": 2,
       "version_minor": 0
      },
      "text/plain": [
       "Epoch 22/50:   0%|          | 0/482 [00:00<?, ?it/s]"
      ]
     },
     "metadata": {},
     "output_type": "display_data"
    },
    {
     "name": "stdout",
     "output_type": "stream",
     "text": [
      "Epoch 22 Summary: Average Loss = 0.1797\n"
     ]
    },
    {
     "name": "stdout",
     "output_type": "stream",
     "text": [
      "Loss decreased (0.180744 --> 0.179666). Saving best model...\n"
     ]
    },
    {
     "data": {
      "application/vnd.jupyter.widget-view+json": {
       "model_id": "2eb44d25db9d4203ab66ebc5bb211d66",
       "version_major": 2,
       "version_minor": 0
      },
      "text/plain": [
       "Epoch 23/50:   0%|          | 0/482 [00:00<?, ?it/s]"
      ]
     },
     "metadata": {},
     "output_type": "display_data"
    },
    {
     "name": "stdout",
     "output_type": "stream",
     "text": [
      "Epoch 23 Summary: Average Loss = 0.1801\n"
     ]
    },
    {
     "name": "stdout",
     "output_type": "stream",
     "text": [
      "EarlyStopping counter: 1 out of 10\n"
     ]
    },
    {
     "data": {
      "application/vnd.jupyter.widget-view+json": {
       "model_id": "0b9950349867437c9d424c496111b772",
       "version_major": 2,
       "version_minor": 0
      },
      "text/plain": [
       "Epoch 24/50:   0%|          | 0/482 [00:00<?, ?it/s]"
      ]
     },
     "metadata": {},
     "output_type": "display_data"
    },
    {
     "name": "stdout",
     "output_type": "stream",
     "text": [
      "Epoch 24 Summary: Average Loss = 0.1806\n"
     ]
    },
    {
     "name": "stdout",
     "output_type": "stream",
     "text": [
      "EarlyStopping counter: 2 out of 10\n"
     ]
    },
    {
     "data": {
      "application/vnd.jupyter.widget-view+json": {
       "model_id": "aaf852cbcc33483fb9b3014a06d9a62d",
       "version_major": 2,
       "version_minor": 0
      },
      "text/plain": [
       "Epoch 25/50:   0%|          | 0/482 [00:00<?, ?it/s]"
      ]
     },
     "metadata": {},
     "output_type": "display_data"
    },
    {
     "name": "stdout",
     "output_type": "stream",
     "text": [
      "Epoch 25 Summary: Average Loss = 0.1785\n"
     ]
    },
    {
     "name": "stdout",
     "output_type": "stream",
     "text": [
      "Loss decreased (0.179666 --> 0.178511). Saving best model...\n"
     ]
    },
    {
     "data": {
      "application/vnd.jupyter.widget-view+json": {
       "model_id": "bd65d1c47cb14894b5bd8eef971be729",
       "version_major": 2,
       "version_minor": 0
      },
      "text/plain": [
       "Epoch 26/50:   0%|          | 0/482 [00:00<?, ?it/s]"
      ]
     },
     "metadata": {},
     "output_type": "display_data"
    },
    {
     "name": "stdout",
     "output_type": "stream",
     "text": [
      "Epoch 26 Summary: Average Loss = 0.1778\n"
     ]
    },
    {
     "name": "stdout",
     "output_type": "stream",
     "text": [
      "Loss decreased (0.178511 --> 0.177780). Saving best model...\n"
     ]
    },
    {
     "data": {
      "application/vnd.jupyter.widget-view+json": {
       "model_id": "37ea33fdce5b444f8198df9762eb9abb",
       "version_major": 2,
       "version_minor": 0
      },
      "text/plain": [
       "Epoch 27/50:   0%|          | 0/482 [00:00<?, ?it/s]"
      ]
     },
     "metadata": {},
     "output_type": "display_data"
    },
    {
     "name": "stdout",
     "output_type": "stream",
     "text": [
      "Epoch 27 Summary: Average Loss = 0.1760\n"
     ]
    },
    {
     "name": "stdout",
     "output_type": "stream",
     "text": [
      "Loss decreased (0.177780 --> 0.176014). Saving best model...\n"
     ]
    },
    {
     "data": {
      "application/vnd.jupyter.widget-view+json": {
       "model_id": "44717ce7aa324283b0959d44875f6740",
       "version_major": 2,
       "version_minor": 0
      },
      "text/plain": [
       "Epoch 28/50:   0%|          | 0/482 [00:00<?, ?it/s]"
      ]
     },
     "metadata": {},
     "output_type": "display_data"
    },
    {
     "name": "stdout",
     "output_type": "stream",
     "text": [
      "Epoch 28 Summary: Average Loss = 0.1769\n"
     ]
    },
    {
     "name": "stdout",
     "output_type": "stream",
     "text": [
      "EarlyStopping counter: 1 out of 10\n"
     ]
    },
    {
     "data": {
      "application/vnd.jupyter.widget-view+json": {
       "model_id": "a3f8896e19624a11a2e44f57d6dc5a86",
       "version_major": 2,
       "version_minor": 0
      },
      "text/plain": [
       "Epoch 29/50:   0%|          | 0/482 [00:00<?, ?it/s]"
      ]
     },
     "metadata": {},
     "output_type": "display_data"
    },
    {
     "name": "stdout",
     "output_type": "stream",
     "text": [
      "Epoch 29 Summary: Average Loss = 0.1771\n"
     ]
    },
    {
     "name": "stdout",
     "output_type": "stream",
     "text": [
      "EarlyStopping counter: 2 out of 10\n"
     ]
    },
    {
     "data": {
      "application/vnd.jupyter.widget-view+json": {
       "model_id": "73507f4302084eb894ae7d62dd85a4bc",
       "version_major": 2,
       "version_minor": 0
      },
      "text/plain": [
       "Epoch 30/50:   0%|          | 0/482 [00:00<?, ?it/s]"
      ]
     },
     "metadata": {},
     "output_type": "display_data"
    },
    {
     "name": "stdout",
     "output_type": "stream",
     "text": [
      "Epoch 30 Summary: Average Loss = 0.1783\n"
     ]
    },
    {
     "name": "stdout",
     "output_type": "stream",
     "text": [
      "EarlyStopping counter: 3 out of 10\n"
     ]
    },
    {
     "data": {
      "application/vnd.jupyter.widget-view+json": {
       "model_id": "a7069a8a4b2c422fa17a6d907450464b",
       "version_major": 2,
       "version_minor": 0
      },
      "text/plain": [
       "Epoch 31/50:   0%|          | 0/482 [00:00<?, ?it/s]"
      ]
     },
     "metadata": {},
     "output_type": "display_data"
    },
    {
     "name": "stdout",
     "output_type": "stream",
     "text": [
      "Epoch 31 Summary: Average Loss = 0.1794\n"
     ]
    },
    {
     "name": "stdout",
     "output_type": "stream",
     "text": [
      "EarlyStopping counter: 4 out of 10\n"
     ]
    },
    {
     "data": {
      "application/vnd.jupyter.widget-view+json": {
       "model_id": "10f79d86e16c4244b31f5ae6b59bbca1",
       "version_major": 2,
       "version_minor": 0
      },
      "text/plain": [
       "Epoch 32/50:   0%|          | 0/482 [00:00<?, ?it/s]"
      ]
     },
     "metadata": {},
     "output_type": "display_data"
    },
    {
     "name": "stdout",
     "output_type": "stream",
     "text": [
      "Epoch 32 Summary: Average Loss = 0.1793\n"
     ]
    },
    {
     "name": "stdout",
     "output_type": "stream",
     "text": [
      "EarlyStopping counter: 5 out of 10\n"
     ]
    },
    {
     "data": {
      "application/vnd.jupyter.widget-view+json": {
       "model_id": "72129f0094ee4c6cbe24f7cdb135a40c",
       "version_major": 2,
       "version_minor": 0
      },
      "text/plain": [
       "Epoch 33/50:   0%|          | 0/482 [00:00<?, ?it/s]"
      ]
     },
     "metadata": {},
     "output_type": "display_data"
    },
    {
     "name": "stdout",
     "output_type": "stream",
     "text": [
      "Epoch 33 Summary: Average Loss = 0.1834\n"
     ]
    },
    {
     "name": "stdout",
     "output_type": "stream",
     "text": [
      "EarlyStopping counter: 6 out of 10\n"
     ]
    },
    {
     "data": {
      "application/vnd.jupyter.widget-view+json": {
       "model_id": "b0fed446c59f4e9d8b893f25e475086d",
       "version_major": 2,
       "version_minor": 0
      },
      "text/plain": [
       "Epoch 34/50:   0%|          | 0/482 [00:00<?, ?it/s]"
      ]
     },
     "metadata": {},
     "output_type": "display_data"
    },
    {
     "name": "stdout",
     "output_type": "stream",
     "text": [
      "Epoch 34 Summary: Average Loss = 0.1836\n"
     ]
    },
    {
     "name": "stdout",
     "output_type": "stream",
     "text": [
      "EarlyStopping counter: 7 out of 10\n"
     ]
    },
    {
     "data": {
      "application/vnd.jupyter.widget-view+json": {
       "model_id": "f2da91019dff427a96f3fb68354e2e1f",
       "version_major": 2,
       "version_minor": 0
      },
      "text/plain": [
       "Epoch 35/50:   0%|          | 0/482 [00:00<?, ?it/s]"
      ]
     },
     "metadata": {},
     "output_type": "display_data"
    }
   ],
   "source": [
    "# ==============================================================================\n",
    "# 03b - RESUME BYOL PRE-TRAINING (50% DATA) - v5.1\n",
    "# ==============================================================================\n",
    "# Purpose: To resume the previous BYOL training session from the last saved\n",
    "#          checkpoint file generated by the run that timed out.\n",
    "# ==============================================================================\n",
    "\n",
    "# --- 0. Imports ---\n",
    "!pip install \"zarr>=2.10.0\" numcodecs -q\n",
    "import torch, torch.nn as nn, torch.nn.functional as F, torchvision.transforms as T, torchvision.models as models\n",
    "from torch.utils.data import Dataset, DataLoader\n",
    "from pathlib import Path\n",
    "import numpy as np, zarr, random, math, os, copy, zipfile, tempfile, gc\n",
    "from tqdm.notebook import tqdm\n",
    "\n",
    "# --- 1. Configuration ---\n",
    "CONFIG = {\n",
    "    'data_path': \"/kaggle/input/01-data-preparation/data/ssl4eo-s12/train/S2RGB\",\n",
    "    'checkpoint_input_folder': '03-byol-training-50pct', # The name of the notebook version whose output you added\n",
    "    'output_dir': \"/kaggle/working/\",\n",
    "    'epochs': 50, 'batch_size': 128, 'learning_rate': 1e-3, 'weight_decay': 1.5e-6,\n",
    "    'image_size': 224, 'projection_dim': 256, 'hidden_dim': 4096, 'base_tau': 0.996,\n",
    "    'num_workers': 2, 'device': 'cuda' if torch.cuda.is_available() else 'cpu',\n",
    "    'early_stopping_patience': 10, 'data_subset_percentage': 0.50,\n",
    "    'checkpoint_filename': \"byol_checkpoint_50pct.pth\",\n",
    "    'best_model_filename': \"byol_best_encoder_50pct.pth\"\n",
    "}\n",
    "\n",
    "# --- 2. Helper Classes & Functions ---\n",
    "class EarlyStopping:\n",
    "    def __init__(self, patience=7, verbose=True, delta=0):\n",
    "        self.patience, self.verbose, self.delta = patience, verbose, delta\n",
    "        self.counter, self.best_score, self.early_stop, self.val_loss_min = 0, None, False, np.Inf\n",
    "    def __call__(self, val_loss, model, path):\n",
    "        if not math.isfinite(val_loss): self.early_stop = True; print(\"Loss is not finite, stopping.\"); return\n",
    "        score = -val_loss\n",
    "        if self.best_score is None: self.best_score = score; self.save_checkpoint(val_loss, model, path)\n",
    "        elif score < self.best_score + self.delta:\n",
    "            self.counter += 1; print(f'EarlyStopping counter: {self.counter} out of {self.patience}')\n",
    "            if self.counter >= self.patience: self.early_stop = True\n",
    "        else: self.best_score = score; self.save_checkpoint(val_loss, model, path); self.counter = 0\n",
    "    def save_checkpoint(self, val_loss, model, path):\n",
    "        print(f'Loss decreased ({self.val_loss_min:.6f} --> {val_loss:.6f}). Saving best model...'); torch.save(model.online_encoder.state_dict(), path); self.val_loss_min = val_loss\n",
    "\n",
    "def save_checkpoint(epoch, model, optimizer, scheduler, loss, config):\n",
    "    state = {'epoch': epoch + 1, 'model_state_dict': model.state_dict(), 'optimizer_state_dict': optimizer.state_dict(), 'scheduler_state_dict': scheduler.state_dict(), 'loss': loss}\n",
    "    torch.save(state, os.path.join(config['output_dir'], config['checkpoint_filename']))\n",
    "\n",
    "def load_checkpoint(model, optimizer, scheduler, config):\n",
    "    path = Path(f\"/kaggle/input/{config['checkpoint_input_folder']}/{config['checkpoint_filename']}\")\n",
    "    start_epoch = 0\n",
    "    if path.exists():\n",
    "        print(f\"✅ Resuming from checkpoint: {path}\")\n",
    "        ckpt = torch.load(path, map_location=config['device'])\n",
    "        model.load_state_dict(ckpt['model_state_dict']); optimizer.load_state_dict(ckpt['optimizer_state_dict'])\n",
    "        scheduler.load_state_dict(ckpt['scheduler_state_dict']); start_epoch = ckpt['epoch']\n",
    "        print(f\"   -> Resuming training from the start of epoch {start_epoch + 1}\")\n",
    "    else: print(f\"❌ Checkpoint not found at {path}. Cannot resume.\")\n",
    "    return start_epoch\n",
    "\n",
    "# --- 3. Dataset, Model, and Loss ---\n",
    "class SSL4EODataset(Dataset):\n",
    "    def __init__(self, root_dir, subset_percentage=1.0):\n",
    "        self.root_dir = Path(root_dir)\n",
    "        all_files = sorted(list(self.root_dir.glob(\"*.zarr.zip\")))\n",
    "        num_files = int(len(all_files) * subset_percentage)\n",
    "        self.zarr_files = random.sample(all_files, num_files) if subset_percentage < 1.0 else all_files\n",
    "        self.images = self._preload_images(); self.total_images = len(self.images)\n",
    "        print(f\"\\nDataset Initialized: Using {subset_percentage*100:.0f}% of data -> {len(self.images):,} images pre-loaded.\")\n",
    "        self.transform_t = T.Compose([\n",
    "            T.ToPILImage(), T.RandomResizedCrop(CONFIG['image_size'], antialias=True), T.RandomHorizontalFlip(),\n",
    "            T.ColorJitter(0.4, 0.4, 0.2, 0.1), T.RandomGrayscale(p=0.2), T.GaussianBlur(23, (0.1, 2.0)),\n",
    "            T.ToTensor(), T.Normalize(mean=[0.485, 0.456, 0.406], std=[0.229, 0.224, 0.225])])\n",
    "        self.transform_t_prime = T.Compose([\n",
    "            T.ToPILImage(), T.RandomResizedCrop(CONFIG['image_size'], antialias=True), T.RandomHorizontalFlip(),\n",
    "            T.ColorJitter(0.4, 0.4, 0.2, 0.1), T.RandomGrayscale(p=0.2), T.RandomSolarize(0.5, p=0.2),\n",
    "            T.ToTensor(), T.Normalize(mean=[0.485, 0.456, 0.406], std=[0.229, 0.224, 0.225])])\n",
    "    def _preload_images(self):\n",
    "        images = []; print(\"Pre-loading images into RAM...\")\n",
    "        for fp in tqdm(self.zarr_files, desc=\"Loading files\"):\n",
    "            with tempfile.TemporaryDirectory() as td:\n",
    "                with zipfile.ZipFile(str(fp), 'r') as zf: zf.extractall(td)\n",
    "                za = zarr.open(td, mode='r')['bands'][:]; images.extend(za.reshape(-1, *za.shape[2:]))\n",
    "        return images\n",
    "    def __len__(self): return self.total_images\n",
    "    def __getitem__(self, idx):\n",
    "        img_chw = self.images[idx]; img_hwc = np.transpose(img_chw, (1, 2, 0))\n",
    "        return self.transform_t(img_hwc), self.transform_t_prime(img_hwc)\n",
    "\n",
    "class MLP(nn.Module):\n",
    "    def __init__(self, i, h, o): super().__init__(); self.net = nn.Sequential(nn.Linear(i, h), nn.BatchNorm1d(h), nn.ReLU(True), nn.Linear(h, o))\n",
    "    def forward(self, x): return self.net(x)\n",
    "\n",
    "class BYOLModel(nn.Module):\n",
    "    def __init__(self, encoder, encoder_dim, p_dim, h_dim, b_tau):\n",
    "        super().__init__(); self.base_tau = b_tau\n",
    "        self.online_encoder=encoder; self.online_projector=MLP(encoder_dim,h_dim,p_dim); self.online_predictor=MLP(p_dim,h_dim,p_dim)\n",
    "        self.target_encoder=copy.deepcopy(encoder); self.target_projector=copy.deepcopy(self.online_projector)\n",
    "        for p in self.target_encoder.parameters(): p.requires_grad=False\n",
    "        for p in self.target_projector.parameters(): p.requires_grad=False\n",
    "    @torch.no_grad()\n",
    "    def update_target_network(self, cs, ts):\n",
    "        tau=1-(1-self.base_tau)*(math.cos(math.pi*cs/ts)+1)/2\n",
    "        for o,t in zip(self.online_encoder.parameters(),self.target_encoder.parameters()): t.data.mul_(tau).add_(o.data,alpha=1-tau)\n",
    "        for o,t in zip(self.online_projector.parameters(),self.target_projector.parameters()): t.data.mul_(tau).add_(o.data,alpha=1-tau)\n",
    "    def forward(self, v1, v2):\n",
    "        op1=self.online_predictor(self.online_projector(self.online_encoder(v1))); op2=self.online_predictor(self.online_projector(self.online_encoder(v2)))\n",
    "        with torch.no_grad(): tp1=self.target_projector(self.target_encoder(v1)); tp2=self.target_projector(self.target_encoder(v2))\n",
    "        return (op1, op2), (tp1.detach(), tp2.detach())\n",
    "\n",
    "def byol_loss_fn(p, t):\n",
    "    p1, p2=p; t1, t2=t; eps=1e-6\n",
    "    p1_norm=F.normalize(p1,p=2,dim=-1,eps=eps); p2_norm=F.normalize(p2,p=2,dim=-1,eps=eps)\n",
    "    t1_norm=F.normalize(t1.detach(),p=2,dim=-1,eps=eps); t2_norm=F.normalize(t2.detach(),p=2,dim=-1,eps=eps)\n",
    "    loss1=2-2*(p1_norm*t2_norm).sum(dim=-1); loss2=2-2*(p2_norm*t1_norm).sum(dim=-1)\n",
    "    return (loss1 + loss2).mean() * 0.5\n",
    "\n",
    "# --- 4. Main Training Execution ---\n",
    "if __name__ == '__main__':\n",
    "    gc.collect(); torch.cuda.empty_cache()\n",
    "    device = torch.device(CONFIG['device']); print(f\"Using device: {device}\")\n",
    "    \n",
    "    dataset = SSL4EODataset(CONFIG['data_path'], CONFIG['data_subset_percentage'])\n",
    "    loader = DataLoader(dataset, batch_size=CONFIG['batch_size'], shuffle=True, num_workers=CONFIG['num_workers'], pin_memory=True, drop_last=True)\n",
    "\n",
    "    print(\"Using ResNet-18 as the encoder model.\")\n",
    "    resnet=models.resnet18(weights=None); ed=resnet.fc.in_features; resnet.fc=nn.Identity()\n",
    "    model = BYOLModel(resnet, ed, CONFIG['projection_dim'], CONFIG['hidden_dim'], CONFIG['base_tau']).to(device)\n",
    "\n",
    "    optimizer = torch.optim.AdamW(model.parameters(), lr=CONFIG['learning_rate'], weight_decay=CONFIG['weight_decay'])\n",
    "    scheduler = torch.optim.lr_scheduler.CosineAnnealingLR(optimizer, T_max=len(loader)*CONFIG['epochs'])\n",
    "    scaler = torch.cuda.amp.GradScaler(enabled=(device.type == 'cuda'))\n",
    "    early_stopper = EarlyStopping(patience=CONFIG['early_stopping_patience'], verbose=True)\n",
    "    \n",
    "    start_epoch = load_checkpoint(model, optimizer, scheduler, CONFIG)\n",
    "    \n",
    "    if start_epoch > 0 or \"03-byol-training-50pct\" not in CONFIG['checkpoint_input_folder']:\n",
    "        print(f\"\\n--- Starting/Resuming BYOL Training from Epoch {start_epoch} ---\")\n",
    "        for epoch in range(start_epoch, CONFIG['epochs']):\n",
    "            model.train(); total_loss = 0.0\n",
    "            pbar = tqdm(loader, desc=f\"Epoch {epoch+1}/{CONFIG['epochs']}\")\n",
    "            for v1, v2 in pbar:\n",
    "                v1, v2 = v1.to(device), v2.to(device)\n",
    "                with torch.cuda.amp.autocast(enabled=(device.type == 'cuda')):\n",
    "                    p, t = model(v1, v2); loss = byol_loss_fn(p, t)\n",
    "                optimizer.zero_grad(set_to_none=True); scaler.scale(loss).backward()\n",
    "                scaler.step(optimizer); scaler.update(); scheduler.step()\n",
    "                model.update_target_network(epoch*len(loader)+pbar.n, len(loader)*CONFIG['epochs'])\n",
    "                total_loss += loss.item(); pbar.set_postfix({'Loss':f\"{loss.item():.4f}\", 'LR':f\"{optimizer.param_groups[0]['lr']:.6f}\"})\n",
    "            \n",
    "            avg_loss = total_loss / len(loader)\n",
    "            if not math.isfinite(avg_loss): print(f\"Epoch {epoch+1} ended with non-finite loss: {avg_loss}. Stopping.\"); break\n",
    "            \n",
    "            print(f\"Epoch {epoch+1} Summary: Average Loss = {avg_loss:.4f}\")\n",
    "            save_checkpoint(epoch, model, optimizer, scheduler, avg_loss, CONFIG)\n",
    "            early_stopper(avg_loss, model, os.path.join(CONFIG['output_dir'], CONFIG['best_model_filename']))\n",
    "            if early_stopper.early_stop: print(\"Early stopping triggered.\"); break\n",
    "\n",
    "        print(\"\\n--- Training Finished ---\")\n",
    "        torch.save(model.online_encoder.state_dict(), os.path.join(CONFIG['output_dir'], \"byol_final_encoder_50pct.pth\"))\n",
    "        print(\"Final and best models saved.\")\n",
    "    else:\n",
    "        # This else block will run if load_checkpoint finds nothing and returns 0.\n",
    "        print(\"Halting execution because a valid checkpoint to resume from was not found.\")"
   ]
  },
  {
   "cell_type": "code",
   "execution_count": null,
   "id": "a277dc7a",
   "metadata": {
    "papermill": {
     "duration": null,
     "end_time": null,
     "exception": null,
     "start_time": null,
     "status": "pending"
    },
    "tags": []
   },
   "outputs": [],
   "source": []
  }
 ],
 "metadata": {
  "kaggle": {
   "accelerator": "gpu",
   "dataSources": [
    {
     "sourceId": 246856200,
     "sourceType": "kernelVersion"
    },
    {
     "sourceId": 246862954,
     "sourceType": "kernelVersion"
    }
   ],
   "dockerImageVersionId": 31041,
   "isGpuEnabled": true,
   "isInternetEnabled": true,
   "language": "python",
   "sourceType": "notebook"
  },
  "kernelspec": {
   "display_name": "Python 3",
   "language": "python",
   "name": "python3"
  },
  "language_info": {
   "codemirror_mode": {
    "name": "ipython",
    "version": 3
   },
   "file_extension": ".py",
   "mimetype": "text/x-python",
   "name": "python",
   "nbconvert_exporter": "python",
   "pygments_lexer": "ipython3",
   "version": "3.11.11"
  },
  "papermill": {
   "default_parameters": {},
   "duration": null,
   "end_time": null,
   "environment_variables": {},
   "exception": null,
   "input_path": "__notebook__.ipynb",
   "output_path": "__notebook__.ipynb",
   "parameters": {},
   "start_time": "2025-06-28T18:27:56.306846",
   "version": "2.6.0"
  }
 },
 "nbformat": 4,
 "nbformat_minor": 5
}